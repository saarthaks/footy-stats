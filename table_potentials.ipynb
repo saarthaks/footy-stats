{
 "cells": [
  {
   "cell_type": "code",
   "execution_count": 1,
   "metadata": {},
   "outputs": [],
   "source": [
    "import numpy as np\n",
    "import matplotlib.pyplot as plt\n",
    "import scipy.stats as ss\n",
    "from itertools import product\n",
    "import time"
   ]
  },
  {
   "cell_type": "code",
   "execution_count": 8,
   "metadata": {},
   "outputs": [],
   "source": [
    "teams = ['liverpool', 'man city', 'chelsea', 'leicester', \n",
    "         'man united', 'wolves', 'sheffield', 'tottenham', 'arsenal',\n",
    "         'burnley', 'everton', 'southampton', 'newcastle', \n",
    "         'crystal palace', 'brighton', 'west ham', 'watford', \n",
    "         'bournemouth', 'aston villa', 'norwich']\n",
    "\n",
    "team_ids = np.array(list(range(len(teams))))\n",
    "name2id = dict(zip(teams, team_ids))\n",
    "id2name = dict(zip(team_ids, teams))\n",
    "positions = team_ids + 1\n",
    "\n",
    "points = np.array([93, 72, 60, 59, 59, 55, 54, 52, 50, 50, 45, 45, 43, 42, 36, 34, 34, 31, 30, 21])\n",
    "games_played = np.array([35, 35, 35, 35, 35, 35, 35, 35, 35, 35, 35, 35, 35, 35, 35, 35, 35, 35, 35, 35])\n",
    "\n",
    "g2p = [('chelsea', 'norwich'),\n",
    "       ('newcastle', 'tottenham'), ('burnley', 'wolves'), ('man city', 'bournemouth'), ('arsenal', 'liverpool'),\n",
    "       ('everton', 'aston villa'), ('leicester', 'sheffield'), ('southampton', 'brighton'), ('crystal palace', 'man united'),\n",
    "       ('west ham', 'watford'), ('norwich', 'burnley'), ('bournemouth', 'southampton'), ('tottenham', 'leicester'),\n",
    "       ('sheffield', 'everton'), ('brighton', 'newcastle'), ('wolves', 'crystal palace'),\n",
    "       ('watford', 'man city'), ('aston villa', 'arsenal'), \n",
    "       ('man united', 'west ham'), ('liverpool', 'chelsea'),\n",
    "       ('chelsea', 'wolves'), ('leicester', 'man united'),\n",
    "       ('southampton', 'sheffield'), ('newcastle', 'liverpool'),\n",
    "       ('west ham', 'aston villa'), ('burnley', 'brighton'),\n",
    "       ('arsenal', 'watford'), ('man city', 'norwich'),\n",
    "       ('crystal palace', 'tottenham'), ('everton', 'bournemouth')]\n",
    "\n",
    "r2p = {36: [('chelsea', 'norwich'),\n",
    "       ('newcastle', 'tottenham'), ('burnley', 'wolves'), ('man city', 'bournemouth'), ('arsenal', 'liverpool'),\n",
    "       ('everton', 'aston villa'), ('leicester', 'sheffield'), ('southampton', 'brighton'), ('crystal palace', 'man united'),\n",
    "       ('west ham', 'watford')], \n",
    "       37: [('norwich', 'burnley'), ('bournemouth', 'southampton'), ('tottenham', 'leicester'),\n",
    "       ('sheffield', 'everton'), ('brighton', 'newcastle'), ('wolves', 'crystal palace'),\n",
    "       ('watford', 'man city'), ('aston villa', 'arsenal'), \n",
    "       ('man united', 'west ham'), ('liverpool', 'chelsea')],\n",
    "       38: [('chelsea', 'wolves'), ('leicester', 'man united'),\n",
    "       ('southampton', 'sheffield'), ('newcastle', 'liverpool'),\n",
    "       ('west ham', 'aston villa'), ('burnley', 'brighton'),\n",
    "       ('arsenal', 'watford'), ('man city', 'norwich'),\n",
    "       ('crystal palace', 'tottenham'), ('everton', 'bournemouth')]\n",
    "      }\n"
   ]
  },
  {
   "cell_type": "code",
   "execution_count": 4,
   "metadata": {},
   "outputs": [],
   "source": [
    "def calc_place2(tid, finishing, curr_rd, curr_played, curr_pts, curr_pos, remaining_games, max_rd=38):\n",
    "    considered_games = poss_games(tid, curr_rd, remaining_games, curr_played, curr_pts, max_rd)\n",
    "    if curr_rd <= max_rd:\n",
    "        games_this_rd = considered_games[curr_rd]\n",
    "        if len(games_this_rd) > 0:\n",
    "            wdl = [0,1,2]\n",
    "            tmp = np.zeros(20)\n",
    "            for scenario in product(wdl, repeat=len(games_this_rd)):\n",
    "                tmp *= 0\n",
    "                for i, res in enumerate(scenario):\n",
    "                    tid1 = name2id[games_this_rd[i][0]]\n",
    "                    tid2 = name2id[games_this_rd[i][1]]\n",
    "                    if res == 0:\n",
    "                        tmp[tid1] += 3\n",
    "                    elif res == 1:\n",
    "                        tmp[tid1] += 1\n",
    "                        tmp[tid2] += 1\n",
    "                    else:\n",
    "                        tmp[tid2] += 3\n",
    "                new_rd = curr_rd + 1\n",
    "                new_played = new_rd*np.ones(20)\n",
    "                new_pts = curr_pts + tmp\n",
    "                new_pos = ss.rankdata(-new_pts, method='min')\n",
    "                calc_place2(tid, finishing, new_rd, new_played, new_pts, new_pos, considered_games, max_rd)\n",
    "        else:\n",
    "            num_scen_downstream = 3**(10*(max_rd - curr_rd + 1))\n",
    "            finishing[curr_pos[tid]-1] += num_scen_downstream\n",
    "            return\n",
    "    else:\n",
    "        num_scen_downstream = 3**(10*(max_rd - curr_rd + 1))\n",
    "        finishing[curr_pos[tid]-1] += num_scen_downstream\n",
    "        return\n",
    "\n",
    "def game_ids(games):\n",
    "    game_ids = {}\n",
    "    for rd in games.keys():\n",
    "        game_ids[rd] = [(name2id[g[0]], name2id[g[1]]) for g in games[rd]]\n",
    "\n",
    "    return game_ids\n",
    "\n",
    "def game_vectors(games):\n",
    "    game_vecs = {}\n",
    "    for rd in games.keys():\n",
    "        game_vecs[rd] = []\n",
    "        for g in games[rd]:\n",
    "            tid1 = name2id[g[0]]\n",
    "            tid2 = name2id[g[1]]\n",
    "\n",
    "            win_vec = np.zeros(20)\n",
    "            win_vec[tid1] = 3\n",
    "            tie_vec = np.zeros(20)\n",
    "            tie_vec[tid1] = 1\n",
    "            tie_vec[tid2] = 1\n",
    "            los_vec = np.zeros(20)\n",
    "            los_vec[tid2] = 3\n",
    "\n",
    "            all_vecs = [win_vec, tie_vec, los_vec]\n",
    "            game_vecs[rd].append(all_vecs)\n",
    "    \n",
    "    return game_vecs\n",
    "\n",
    "def poss_pts(tid, curr_played, curr_pts, max_rd=38):\n",
    "    min_pt = curr_pts[tid]\n",
    "    all_max = curr_pts + 3*(max_rd - curr_played)\n",
    "    max_pt = all_max[tid]\n",
    "    mask = (min_pt <= all_max) & (max_pt >= curr_pts)\n",
    "    \n",
    "    return mask\n",
    "\n",
    "def thin_games(games, game_vecs, mask):\n",
    "    thinned_games = [g for g in games if (mask[g[0]] or mask[g[1]])]\n",
    "    thinned_vecs = [gv for g,gv in zip(games, game_vecs) if (mask[g[0]] or mask[g[1]])]\n",
    "\n",
    "    return thinned_games, thinned_vecs\n",
    "\n",
    "# def poss_places(tid, curr_played, curr_pts, curr_pos, max_rd=38):\n",
    "#     min_pt, max_pt = poss_pts(tid, curr_played, curr_pts, max_rd)\n",
    "    \n",
    "#     min_pl = curr_pos[np.argmax(-1/(curr_pts - max_pt))]\n",
    "#     all_max = curr_pts + 3*(max_rd - curr_played)\n",
    "#     max_pl = curr_pos[np.argmax(1/(all_max - min_pt))]\n",
    "    \n",
    "#     return min_pl, max_pl\n",
    "\n",
    "def poss_games(tid, curr_rd, all_games, all_game_vecs, curr_played, curr_pts, max_rd=38):\n",
    "    mask = poss_pts(tid, curr_played, curr_pts, max_rd)\n",
    "    games = {}\n",
    "    game_vecs = {}\n",
    "    for rd in all_games.keys():\n",
    "        if rd >= curr_rd:\n",
    "            g, gv = thin_games(all_games[rd], all_game_vecs[rd], mask)\n",
    "            games[rd] = g\n",
    "            game_vecs[rd] = gv\n",
    "\n",
    "    return games, game_vecs\n",
    "    "
   ]
  },
  {
   "cell_type": "code",
   "execution_count": 9,
   "metadata": {
    "scrolled": true
   },
   "outputs": [
    {
     "name": "stdout",
     "output_type": "stream",
     "text": [
      "{36: [[array([0., 0., 3., 0., 0., 0., 0., 0., 0., 0., 0., 0., 0., 0., 0., 0., 0.,\n",
      "       0., 0., 0.]), array([0., 0., 1., 0., 0., 0., 0., 0., 0., 0., 0., 0., 0., 0., 0., 0., 0.,\n",
      "       0., 0., 1.]), array([0., 0., 0., 0., 0., 0., 0., 0., 0., 0., 0., 0., 0., 0., 0., 0., 0.,\n",
      "       0., 0., 3.])], [array([0., 0., 0., 0., 0., 0., 0., 0., 0., 0., 0., 0., 3., 0., 0., 0., 0.,\n",
      "       0., 0., 0.]), array([0., 0., 0., 0., 0., 0., 0., 1., 0., 0., 0., 0., 1., 0., 0., 0., 0.,\n",
      "       0., 0., 0.]), array([0., 0., 0., 0., 0., 0., 0., 3., 0., 0., 0., 0., 0., 0., 0., 0., 0.,\n",
      "       0., 0., 0.])], [array([0., 0., 0., 0., 0., 0., 0., 0., 0., 3., 0., 0., 0., 0., 0., 0., 0.,\n",
      "       0., 0., 0.]), array([0., 0., 0., 0., 0., 1., 0., 0., 0., 1., 0., 0., 0., 0., 0., 0., 0.,\n",
      "       0., 0., 0.]), array([0., 0., 0., 0., 0., 3., 0., 0., 0., 0., 0., 0., 0., 0., 0., 0., 0.,\n",
      "       0., 0., 0.])], [array([0., 3., 0., 0., 0., 0., 0., 0., 0., 0., 0., 0., 0., 0., 0., 0., 0.,\n",
      "       0., 0., 0.]), array([0., 1., 0., 0., 0., 0., 0., 0., 0., 0., 0., 0., 0., 0., 0., 0., 0.,\n",
      "       1., 0., 0.]), array([0., 0., 0., 0., 0., 0., 0., 0., 0., 0., 0., 0., 0., 0., 0., 0., 0.,\n",
      "       3., 0., 0.])], [array([0., 0., 0., 0., 0., 0., 0., 0., 3., 0., 0., 0., 0., 0., 0., 0., 0.,\n",
      "       0., 0., 0.]), array([1., 0., 0., 0., 0., 0., 0., 0., 1., 0., 0., 0., 0., 0., 0., 0., 0.,\n",
      "       0., 0., 0.]), array([3., 0., 0., 0., 0., 0., 0., 0., 0., 0., 0., 0., 0., 0., 0., 0., 0.,\n",
      "       0., 0., 0.])], [array([0., 0., 0., 0., 0., 0., 0., 0., 0., 0., 3., 0., 0., 0., 0., 0., 0.,\n",
      "       0., 0., 0.]), array([0., 0., 0., 0., 0., 0., 0., 0., 0., 0., 1., 0., 0., 0., 0., 0., 0.,\n",
      "       0., 1., 0.]), array([0., 0., 0., 0., 0., 0., 0., 0., 0., 0., 0., 0., 0., 0., 0., 0., 0.,\n",
      "       0., 3., 0.])], [array([0., 0., 0., 3., 0., 0., 0., 0., 0., 0., 0., 0., 0., 0., 0., 0., 0.,\n",
      "       0., 0., 0.]), array([0., 0., 0., 1., 0., 0., 1., 0., 0., 0., 0., 0., 0., 0., 0., 0., 0.,\n",
      "       0., 0., 0.]), array([0., 0., 0., 0., 0., 0., 3., 0., 0., 0., 0., 0., 0., 0., 0., 0., 0.,\n",
      "       0., 0., 0.])], [array([0., 0., 0., 0., 0., 0., 0., 0., 0., 0., 0., 3., 0., 0., 0., 0., 0.,\n",
      "       0., 0., 0.]), array([0., 0., 0., 0., 0., 0., 0., 0., 0., 0., 0., 1., 0., 0., 1., 0., 0.,\n",
      "       0., 0., 0.]), array([0., 0., 0., 0., 0., 0., 0., 0., 0., 0., 0., 0., 0., 0., 3., 0., 0.,\n",
      "       0., 0., 0.])], [array([0., 0., 0., 0., 0., 0., 0., 0., 0., 0., 0., 0., 0., 3., 0., 0., 0.,\n",
      "       0., 0., 0.]), array([0., 0., 0., 0., 1., 0., 0., 0., 0., 0., 0., 0., 0., 1., 0., 0., 0.,\n",
      "       0., 0., 0.]), array([0., 0., 0., 0., 3., 0., 0., 0., 0., 0., 0., 0., 0., 0., 0., 0., 0.,\n",
      "       0., 0., 0.])], [array([0., 0., 0., 0., 0., 0., 0., 0., 0., 0., 0., 0., 0., 0., 0., 3., 0.,\n",
      "       0., 0., 0.]), array([0., 0., 0., 0., 0., 0., 0., 0., 0., 0., 0., 0., 0., 0., 0., 1., 1.,\n",
      "       0., 0., 0.]), array([0., 0., 0., 0., 0., 0., 0., 0., 0., 0., 0., 0., 0., 0., 0., 0., 3.,\n",
      "       0., 0., 0.])]], 37: [[array([0., 0., 0., 0., 0., 0., 0., 0., 0., 0., 0., 0., 0., 0., 0., 0., 0.,\n",
      "       0., 0., 3.]), array([0., 0., 0., 0., 0., 0., 0., 0., 0., 1., 0., 0., 0., 0., 0., 0., 0.,\n",
      "       0., 0., 1.]), array([0., 0., 0., 0., 0., 0., 0., 0., 0., 3., 0., 0., 0., 0., 0., 0., 0.,\n",
      "       0., 0., 0.])], [array([0., 0., 0., 0., 0., 0., 0., 0., 0., 0., 0., 0., 0., 0., 0., 0., 0.,\n",
      "       3., 0., 0.]), array([0., 0., 0., 0., 0., 0., 0., 0., 0., 0., 0., 1., 0., 0., 0., 0., 0.,\n",
      "       1., 0., 0.]), array([0., 0., 0., 0., 0., 0., 0., 0., 0., 0., 0., 3., 0., 0., 0., 0., 0.,\n",
      "       0., 0., 0.])], [array([0., 0., 0., 0., 0., 0., 0., 3., 0., 0., 0., 0., 0., 0., 0., 0., 0.,\n",
      "       0., 0., 0.]), array([0., 0., 0., 1., 0., 0., 0., 1., 0., 0., 0., 0., 0., 0., 0., 0., 0.,\n",
      "       0., 0., 0.]), array([0., 0., 0., 3., 0., 0., 0., 0., 0., 0., 0., 0., 0., 0., 0., 0., 0.,\n",
      "       0., 0., 0.])], [array([0., 0., 0., 0., 0., 0., 3., 0., 0., 0., 0., 0., 0., 0., 0., 0., 0.,\n",
      "       0., 0., 0.]), array([0., 0., 0., 0., 0., 0., 1., 0., 0., 0., 1., 0., 0., 0., 0., 0., 0.,\n",
      "       0., 0., 0.]), array([0., 0., 0., 0., 0., 0., 0., 0., 0., 0., 3., 0., 0., 0., 0., 0., 0.,\n",
      "       0., 0., 0.])], [array([0., 0., 0., 0., 0., 0., 0., 0., 0., 0., 0., 0., 0., 0., 3., 0., 0.,\n",
      "       0., 0., 0.]), array([0., 0., 0., 0., 0., 0., 0., 0., 0., 0., 0., 0., 1., 0., 1., 0., 0.,\n",
      "       0., 0., 0.]), array([0., 0., 0., 0., 0., 0., 0., 0., 0., 0., 0., 0., 3., 0., 0., 0., 0.,\n",
      "       0., 0., 0.])], [array([0., 0., 0., 0., 0., 3., 0., 0., 0., 0., 0., 0., 0., 0., 0., 0., 0.,\n",
      "       0., 0., 0.]), array([0., 0., 0., 0., 0., 1., 0., 0., 0., 0., 0., 0., 0., 1., 0., 0., 0.,\n",
      "       0., 0., 0.]), array([0., 0., 0., 0., 0., 0., 0., 0., 0., 0., 0., 0., 0., 3., 0., 0., 0.,\n",
      "       0., 0., 0.])], [array([0., 0., 0., 0., 0., 0., 0., 0., 0., 0., 0., 0., 0., 0., 0., 0., 3.,\n",
      "       0., 0., 0.]), array([0., 1., 0., 0., 0., 0., 0., 0., 0., 0., 0., 0., 0., 0., 0., 0., 1.,\n",
      "       0., 0., 0.]), array([0., 3., 0., 0., 0., 0., 0., 0., 0., 0., 0., 0., 0., 0., 0., 0., 0.,\n",
      "       0., 0., 0.])], [array([0., 0., 0., 0., 0., 0., 0., 0., 0., 0., 0., 0., 0., 0., 0., 0., 0.,\n",
      "       0., 3., 0.]), array([0., 0., 0., 0., 0., 0., 0., 0., 1., 0., 0., 0., 0., 0., 0., 0., 0.,\n",
      "       0., 1., 0.]), array([0., 0., 0., 0., 0., 0., 0., 0., 3., 0., 0., 0., 0., 0., 0., 0., 0.,\n",
      "       0., 0., 0.])], [array([0., 0., 0., 0., 3., 0., 0., 0., 0., 0., 0., 0., 0., 0., 0., 0., 0.,\n",
      "       0., 0., 0.]), array([0., 0., 0., 0., 1., 0., 0., 0., 0., 0., 0., 0., 0., 0., 0., 1., 0.,\n",
      "       0., 0., 0.]), array([0., 0., 0., 0., 0., 0., 0., 0., 0., 0., 0., 0., 0., 0., 0., 3., 0.,\n",
      "       0., 0., 0.])], [array([3., 0., 0., 0., 0., 0., 0., 0., 0., 0., 0., 0., 0., 0., 0., 0., 0.,\n",
      "       0., 0., 0.]), array([1., 0., 1., 0., 0., 0., 0., 0., 0., 0., 0., 0., 0., 0., 0., 0., 0.,\n",
      "       0., 0., 0.]), array([0., 0., 3., 0., 0., 0., 0., 0., 0., 0., 0., 0., 0., 0., 0., 0., 0.,\n",
      "       0., 0., 0.])]], 38: [[array([0., 0., 3., 0., 0., 0., 0., 0., 0., 0., 0., 0., 0., 0., 0., 0., 0.,\n",
      "       0., 0., 0.]), array([0., 0., 1., 0., 0., 1., 0., 0., 0., 0., 0., 0., 0., 0., 0., 0., 0.,\n",
      "       0., 0., 0.]), array([0., 0., 0., 0., 0., 3., 0., 0., 0., 0., 0., 0., 0., 0., 0., 0., 0.,\n",
      "       0., 0., 0.])], [array([0., 0., 0., 3., 0., 0., 0., 0., 0., 0., 0., 0., 0., 0., 0., 0., 0.,\n",
      "       0., 0., 0.]), array([0., 0., 0., 1., 1., 0., 0., 0., 0., 0., 0., 0., 0., 0., 0., 0., 0.,\n",
      "       0., 0., 0.]), array([0., 0., 0., 0., 3., 0., 0., 0., 0., 0., 0., 0., 0., 0., 0., 0., 0.,\n",
      "       0., 0., 0.])], [array([0., 0., 0., 0., 0., 0., 0., 0., 0., 0., 0., 3., 0., 0., 0., 0., 0.,\n",
      "       0., 0., 0.]), array([0., 0., 0., 0., 0., 0., 1., 0., 0., 0., 0., 1., 0., 0., 0., 0., 0.,\n",
      "       0., 0., 0.]), array([0., 0., 0., 0., 0., 0., 3., 0., 0., 0., 0., 0., 0., 0., 0., 0., 0.,\n",
      "       0., 0., 0.])], [array([0., 0., 0., 0., 0., 0., 0., 0., 0., 0., 0., 0., 3., 0., 0., 0., 0.,\n",
      "       0., 0., 0.]), array([1., 0., 0., 0., 0., 0., 0., 0., 0., 0., 0., 0., 1., 0., 0., 0., 0.,\n",
      "       0., 0., 0.]), array([3., 0., 0., 0., 0., 0., 0., 0., 0., 0., 0., 0., 0., 0., 0., 0., 0.,\n",
      "       0., 0., 0.])], [array([0., 0., 0., 0., 0., 0., 0., 0., 0., 0., 0., 0., 0., 0., 0., 3., 0.,\n",
      "       0., 0., 0.]), array([0., 0., 0., 0., 0., 0., 0., 0., 0., 0., 0., 0., 0., 0., 0., 1., 0.,\n",
      "       0., 1., 0.]), array([0., 0., 0., 0., 0., 0., 0., 0., 0., 0., 0., 0., 0., 0., 0., 0., 0.,\n",
      "       0., 3., 0.])], [array([0., 0., 0., 0., 0., 0., 0., 0., 0., 3., 0., 0., 0., 0., 0., 0., 0.,\n",
      "       0., 0., 0.]), array([0., 0., 0., 0., 0., 0., 0., 0., 0., 1., 0., 0., 0., 0., 1., 0., 0.,\n",
      "       0., 0., 0.]), array([0., 0., 0., 0., 0., 0., 0., 0., 0., 0., 0., 0., 0., 0., 3., 0., 0.,\n",
      "       0., 0., 0.])], [array([0., 0., 0., 0., 0., 0., 0., 0., 3., 0., 0., 0., 0., 0., 0., 0., 0.,\n",
      "       0., 0., 0.]), array([0., 0., 0., 0., 0., 0., 0., 0., 1., 0., 0., 0., 0., 0., 0., 0., 1.,\n",
      "       0., 0., 0.]), array([0., 0., 0., 0., 0., 0., 0., 0., 0., 0., 0., 0., 0., 0., 0., 0., 3.,\n",
      "       0., 0., 0.])], [array([0., 3., 0., 0., 0., 0., 0., 0., 0., 0., 0., 0., 0., 0., 0., 0., 0.,\n",
      "       0., 0., 0.]), array([0., 1., 0., 0., 0., 0., 0., 0., 0., 0., 0., 0., 0., 0., 0., 0., 0.,\n",
      "       0., 0., 1.]), array([0., 0., 0., 0., 0., 0., 0., 0., 0., 0., 0., 0., 0., 0., 0., 0., 0.,\n",
      "       0., 0., 3.])], [array([0., 0., 0., 0., 0., 0., 0., 0., 0., 0., 0., 0., 0., 3., 0., 0., 0.,\n",
      "       0., 0., 0.]), array([0., 0., 0., 0., 0., 0., 0., 1., 0., 0., 0., 0., 0., 1., 0., 0., 0.,\n",
      "       0., 0., 0.]), array([0., 0., 0., 0., 0., 0., 0., 3., 0., 0., 0., 0., 0., 0., 0., 0., 0.,\n",
      "       0., 0., 0.])], [array([0., 0., 0., 0., 0., 0., 0., 0., 0., 0., 3., 0., 0., 0., 0., 0., 0.,\n",
      "       0., 0., 0.]), array([0., 0., 0., 0., 0., 0., 0., 0., 0., 0., 1., 0., 0., 0., 0., 0., 0.,\n",
      "       1., 0., 0.]), array([0., 0., 0., 0., 0., 0., 0., 0., 0., 0., 0., 0., 0., 0., 0., 0., 0.,\n",
      "       3., 0., 0.])]]}\n"
     ]
    }
   ],
   "source": [
    "rvecs = game_vectors(r2p)\n",
    "print(rvecs)"
   ]
  },
  {
   "cell_type": "code",
   "execution_count": 25,
   "metadata": {},
   "outputs": [],
   "source": [
    "def run_sims(tid, finishing, curr_rd, curr_pts, curr_pos, cons_games, cons_vecs, scen_per_outcome, max_rd=38):\n",
    "    games_this_rd = cons_games[curr_rd]\n",
    "    gvecs_this_rd = cons_vecs[curr_rd]\n",
    "    if len(games_this_rd) > 0:\n",
    "        scen_per_res = scen_per_outcome / (3**(len(games_this_rd)))\n",
    "        new_rd = curr_rd + 1\n",
    "        now_played = curr_rd*np.ones(20)\n",
    "        for scenario in product(*gvecs_this_rd):\n",
    "            new_pts = curr_pts + np.sum(scenario, axis=0)\n",
    "            new_pos = np.sum(new_pts > new_pts[tid])\n",
    "            if new_rd > max_rd:\n",
    "                finishing[new_pos] += scen_per_res\n",
    "            else:\n",
    "                calc_place(tid, finishing, new_rd, now_played, new_pts, new_pos+1, cons_games, cons_vecs, max_rd)\n",
    "        return \n",
    "    else:\n",
    "#         if curr_pos == 2:\n",
    "#             print('here!')\n",
    "        finishing[curr_pos-1] += 3**(max_rd - curr_rd)\n",
    "#         if curr_rd >= max_rd:\n",
    "#             finishing[curr_pos] += scen_per_outcome\n",
    "#         else:\n",
    "#             new_rd = curr_rd + 1\n",
    "#             now_played = curr_rd*np.ones(20)\n",
    "#             calc_place(tid, finishing, new_rd, now_played, curr_pts, curr_pos, cons_games, cons_vecs, max_rd)\n",
    "        return\n",
    "        \n",
    "def calc_place(tid, finishing, curr_rd, curr_played, curr_pts, curr_pos, games, game_vecs, max_rd=38):\n",
    "    cons_games, cons_vecs = poss_games(tid, curr_rd, games, game_vecs, curr_played, curr_pts, max_rd)\n",
    "    games_this_rd = cons_games[curr_rd]\n",
    "    gvecs_this_rd = cons_vecs[curr_rd]\n",
    "    if len(games_this_rd) > 0:\n",
    "        opid = None\n",
    "        scen_per_outcome = 3**(len(games_this_rd) - 1)\n",
    "        for i, g in enumerate(games_this_rd):\n",
    "            if tid == g[0]:\n",
    "                opid = g[1]\n",
    "                cons_games[curr_rd].remove(g)\n",
    "                tid_gv = cons_vecs[curr_rd].pop(i)\n",
    "                break\n",
    "            elif tid == g[1]:\n",
    "                opid = g[0]\n",
    "                cons_games[curr_rd].remove(g)\n",
    "                tid_gv = cons_vecs[curr_rd].pop(i)\n",
    "                break\n",
    "\n",
    "        if opid:\n",
    "            pot_played = np.copy(curr_played)\n",
    "            pot_played[tid] += 1\n",
    "            pot_played[opid] += 1\n",
    "\n",
    "            # consider win\n",
    "            new_pts = curr_pts + tid_gv[0]\n",
    "            g2consid, gv2consid = poss_games(tid, curr_rd, cons_games, cons_vecs, pot_played, new_pts, max_rd)\n",
    "            run_sims(tid, finishing, curr_rd, new_pts, curr_pos, g2consid, gv2consid, scen_per_outcome, max_rd)\n",
    "\n",
    "            # consider tie\n",
    "            new_pts = curr_pts + tid_gv[1]\n",
    "            g2consid, gv2consid  = poss_games(tid, curr_rd, cons_games, cons_vecs, pot_played, new_pts, max_rd)\n",
    "            run_sims(tid, finishing, curr_rd, new_pts, curr_pos, g2consid, gv2consid, scen_per_outcome, max_rd)\n",
    "\n",
    "            # consider loss\n",
    "            new_pts = curr_pts + tid_gv[2]\n",
    "            g2consid, gv2consid  = poss_games(tid, curr_rd, cons_games, cons_vecs, pot_played, new_pts, max_rd)\n",
    "            run_sims(tid, finishing, curr_rd, new_pts, curr_pos, g2consid, gv2consid, scen_per_outcome, max_rd)\n",
    "\n",
    "        else:\n",
    "            run_sims(tid, finishing, curr_rd, curr_pts, curr_pos, cons_games, cons_vecs, 3*scen_per_outcome, max_rd)\n",
    "    \n",
    "        return \n",
    "    else:\n",
    "        curr_rd += 1\n",
    "        calc_place(tid, finishing, curr_rd, curr_played, curr_pts, curr_pos, cons_games, cons_vecs, max_rd)\n",
    "\n",
    "        return "
   ]
  },
  {
   "cell_type": "code",
   "execution_count": 7,
   "metadata": {},
   "outputs": [
    {
     "data": {
      "text/plain": [
       "{35: [('liverpool', 'burnley'),\n",
       "  ('sheffield', 'chelsea'),\n",
       "  ('wolves', 'everton'),\n",
       "  ('tottenham', 'arsenal')]}"
      ]
     },
     "execution_count": 7,
     "metadata": {},
     "output_type": "execute_result"
    }
   ],
   "source": [
    "rs = {35: [('watford', 'newcastle'), ('norwich', 'west ham'), ('liverpool', 'burnley'), ('sheffield', 'chelsea'), ('brighton', 'man city'),\n",
    "       ('wolves', 'everton'), ('aston villa', 'crystal palace'), ('tottenham', 'arsenal'), ('bournemouth', 'leicester'),\n",
    "       ('man united', 'southampton')]}\n",
    "\n",
    "\n",
    "finishing = np.zeros(20)\n",
    "tid = name2id['wolves']\n",
    "max_rd = 35\n",
    "curr_rd = games_played[tid]\n",
    "poss_games(tid, curr_rd, rs, games_played, points, max_rd)\n",
    "# poss_places(tid, games_played, points, positions, max_rd)\n"
   ]
  },
  {
   "cell_type": "code",
   "execution_count": 86,
   "metadata": {
    "scrolled": false
   },
   "outputs": [
    {
     "data": {
      "text/plain": [
       "Text(0.5,1,'wolves finishing after week 35')"
      ]
     },
     "execution_count": 86,
     "metadata": {},
     "output_type": "execute_result"
    },
    {
     "data": {
      "image/png": "[encoded data removed]",
      "text/plain": [
       "<matplotlib.figure.Figure at 0x1225ff7f0>"
      ]
     },
     "metadata": {},
     "output_type": "display_data"
    }
   ],
   "source": [
    "rs = {35: [('watford', 'newcastle'), ('norwich', 'west ham'), ('liverpool', 'burnley'), ('sheffield', 'chelsea'), ('brighton', 'man city'),\n",
    "       ('wolves', 'everton'), ('aston villa', 'crystal palace'), ('tottenham', 'arsenal'), ('bournemouth', 'leicester'),\n",
    "       ('man united', 'southampton')]}\n",
    "rvs = game_vectors(rs)\n",
    "rids = game_ids(rs)\n",
    "\n",
    "finishing = np.zeros(20)\n",
    "tid = name2id['wolves']\n",
    "max_rd = 35\n",
    "curr_rd = games_played[tid]+1\n",
    "calc_place(tid, finishing, curr_rd, games_played, points, pos, rids, rvs, max_rd=max_rd)\n",
    "\n",
    "plt.bar(positions, finishing / np.sum(finishing))\n",
    "plt.xticks(positions);\n",
    "plt.ylim([0,1.01])\n",
    "plt.title('%s finishing after week %d' % (id2name[tid], max_rd))"
   ]
  },
  {
   "cell_type": "code",
   "execution_count": 87,
   "metadata": {},
   "outputs": [
    {
     "data": {
      "text/plain": [
       "Text(0.5,1,'arsenal finishing after week 36')"
      ]
     },
     "execution_count": 87,
     "metadata": {},
     "output_type": "execute_result"
    },
    {
     "data": {
      "image/png": "[encoded data removed]",
      "text/plain": [
       "<matplotlib.figure.Figure at 0x121611b00>"
      ]
     },
     "metadata": {},
     "output_type": "display_data"
    }
   ],
   "source": [
    "rs = {35: [('watford', 'newcastle'), ('norwich', 'west ham'), ('liverpool', 'burnley'), ('sheffield', 'chelsea'), ('brighton', 'man city'),\n",
    "       ('wolves', 'everton'), ('aston villa', 'crystal palace'), ('tottenham', 'arsenal'), ('bournemouth', 'leicester'),\n",
    "       ('man united', 'southampton')],\n",
    "       36: [('chelsea', 'norwich'),\n",
    "       ('newcastle', 'tottenham'), ('burnley', 'wolves'), ('man city', 'bournemouth'), ('arsenal', 'liverpool'),\n",
    "       ('everton', 'aston villa'), ('leicester', 'sheffield'), ('southampton', 'brighton'), ('crystal palace', 'man united'),\n",
    "       ('west ham', 'watford')]}\n",
    "rvs = game_vectors(rs)\n",
    "rids = game_ids(rs)\n",
    "\n",
    "finishing = np.zeros(20)\n",
    "tid = name2id['arsenal']\n",
    "max_rd = 36\n",
    "curr_rd = games_played[tid]+1\n",
    "pos = positions[tid]\n",
    "calc_place(tid, finishing, curr_rd, games_played, points, pos, rids, rvs, max_rd=max_rd)\n",
    "\n",
    "plt.bar(positions, finishing / np.sum(finishing))\n",
    "plt.xticks(positions);\n",
    "plt.ylim([0,1.01])\n",
    "plt.title('%s finishing after week %d' % (id2name[tid], max_rd))"
   ]
  },
  {
   "cell_type": "code",
   "execution_count": 89,
   "metadata": {},
   "outputs": [
    {
     "ename": "KeyboardInterrupt",
     "evalue": "",
     "output_type": "error",
     "traceback": [
      "\u001b[0;31m---------------------------------------------------------------------------\u001b[0m",
      "\u001b[0;31mKeyboardInterrupt\u001b[0m                         Traceback (most recent call last)",
      "\u001b[0;32m<ipython-input-89-f47d0d974a16>\u001b[0m in \u001b[0;36m<module>\u001b[0;34m()\u001b[0m\n\u001b[1;32m     18\u001b[0m \u001b[0mcurr_rd\u001b[0m \u001b[0;34m=\u001b[0m \u001b[0mgames_played\u001b[0m\u001b[0;34m[\u001b[0m\u001b[0mtid\u001b[0m\u001b[0;34m]\u001b[0m\u001b[0;34m+\u001b[0m\u001b[0;36m1\u001b[0m\u001b[0;34m\u001b[0m\u001b[0m\n\u001b[1;32m     19\u001b[0m \u001b[0mpos\u001b[0m \u001b[0;34m=\u001b[0m \u001b[0mpositions\u001b[0m\u001b[0;34m[\u001b[0m\u001b[0mtid\u001b[0m\u001b[0;34m]\u001b[0m\u001b[0;34m\u001b[0m\u001b[0m\n\u001b[0;32m---> 20\u001b[0;31m \u001b[0mcalc_place\u001b[0m\u001b[0;34m(\u001b[0m\u001b[0mtid\u001b[0m\u001b[0;34m,\u001b[0m \u001b[0mfinishing\u001b[0m\u001b[0;34m,\u001b[0m \u001b[0mcurr_rd\u001b[0m\u001b[0;34m,\u001b[0m \u001b[0mgames_played\u001b[0m\u001b[0;34m,\u001b[0m \u001b[0mpoints\u001b[0m\u001b[0;34m,\u001b[0m \u001b[0mpos\u001b[0m\u001b[0;34m,\u001b[0m \u001b[0mrids\u001b[0m\u001b[0;34m,\u001b[0m \u001b[0mrvs\u001b[0m\u001b[0;34m,\u001b[0m \u001b[0mmax_rd\u001b[0m\u001b[0;34m=\u001b[0m\u001b[0mmax_rd\u001b[0m\u001b[0;34m)\u001b[0m\u001b[0;34m\u001b[0m\u001b[0m\n\u001b[0m\u001b[1;32m     21\u001b[0m \u001b[0;34m\u001b[0m\u001b[0m\n\u001b[1;32m     22\u001b[0m \u001b[0mplt\u001b[0m\u001b[0;34m.\u001b[0m\u001b[0mbar\u001b[0m\u001b[0;34m(\u001b[0m\u001b[0mpositions\u001b[0m\u001b[0;34m,\u001b[0m \u001b[0mfinishing\u001b[0m \u001b[0;34m/\u001b[0m \u001b[0mnp\u001b[0m\u001b[0;34m.\u001b[0m\u001b[0msum\u001b[0m\u001b[0;34m(\u001b[0m\u001b[0mfinishing\u001b[0m\u001b[0;34m)\u001b[0m\u001b[0;34m)\u001b[0m\u001b[0;34m\u001b[0m\u001b[0m\n",
      "\u001b[0;32m<ipython-input-85-02248789f2c2>\u001b[0m in \u001b[0;36mcalc_place\u001b[0;34m(tid, finishing, curr_rd, curr_played, curr_pts, curr_pos, games, game_vecs, max_rd)\u001b[0m\n\u001b[1;32m     51\u001b[0m             \u001b[0mnew_pts\u001b[0m \u001b[0;34m=\u001b[0m \u001b[0mcurr_pts\u001b[0m \u001b[0;34m+\u001b[0m \u001b[0mtid_gv\u001b[0m\u001b[0;34m[\u001b[0m\u001b[0;36m0\u001b[0m\u001b[0;34m]\u001b[0m\u001b[0;34m\u001b[0m\u001b[0m\n\u001b[1;32m     52\u001b[0m             \u001b[0mg2consid\u001b[0m\u001b[0;34m,\u001b[0m \u001b[0mgv2consid\u001b[0m \u001b[0;34m=\u001b[0m \u001b[0mposs_games\u001b[0m\u001b[0;34m(\u001b[0m\u001b[0mtid\u001b[0m\u001b[0;34m,\u001b[0m \u001b[0mcurr_rd\u001b[0m\u001b[0;34m,\u001b[0m \u001b[0mcons_games\u001b[0m\u001b[0;34m,\u001b[0m \u001b[0mcons_vecs\u001b[0m\u001b[0;34m,\u001b[0m \u001b[0mpot_played\u001b[0m\u001b[0;34m,\u001b[0m \u001b[0mnew_pts\u001b[0m\u001b[0;34m,\u001b[0m \u001b[0mmax_rd\u001b[0m\u001b[0;34m)\u001b[0m\u001b[0;34m\u001b[0m\u001b[0m\n\u001b[0;32m---> 53\u001b[0;31m             \u001b[0mrun_sims\u001b[0m\u001b[0;34m(\u001b[0m\u001b[0mtid\u001b[0m\u001b[0;34m,\u001b[0m \u001b[0mfinishing\u001b[0m\u001b[0;34m,\u001b[0m \u001b[0mcurr_rd\u001b[0m\u001b[0;34m,\u001b[0m \u001b[0mnew_pts\u001b[0m\u001b[0;34m,\u001b[0m \u001b[0mcurr_pos\u001b[0m\u001b[0;34m,\u001b[0m \u001b[0mg2consid\u001b[0m\u001b[0;34m,\u001b[0m \u001b[0mgv2consid\u001b[0m\u001b[0;34m,\u001b[0m \u001b[0mscen_per_outcome\u001b[0m\u001b[0;34m,\u001b[0m \u001b[0mmax_rd\u001b[0m\u001b[0;34m)\u001b[0m\u001b[0;34m\u001b[0m\u001b[0m\n\u001b[0m\u001b[1;32m     54\u001b[0m \u001b[0;34m\u001b[0m\u001b[0m\n\u001b[1;32m     55\u001b[0m             \u001b[0;31m# consider tie\u001b[0m\u001b[0;34m\u001b[0m\u001b[0;34m\u001b[0m\u001b[0m\n",
      "\u001b[0;32m<ipython-input-85-02248789f2c2>\u001b[0m in \u001b[0;36mrun_sims\u001b[0;34m(tid, finishing, curr_rd, curr_pts, curr_pos, cons_games, cons_vecs, scen_per_outcome, max_rd)\u001b[0m\n\u001b[1;32m     12\u001b[0m                 \u001b[0mfinishing\u001b[0m\u001b[0;34m[\u001b[0m\u001b[0mnew_pos\u001b[0m\u001b[0;34m]\u001b[0m \u001b[0;34m+=\u001b[0m \u001b[0mscen_per_res\u001b[0m\u001b[0;34m\u001b[0m\u001b[0m\n\u001b[1;32m     13\u001b[0m             \u001b[0;32melse\u001b[0m\u001b[0;34m:\u001b[0m\u001b[0;34m\u001b[0m\u001b[0m\n\u001b[0;32m---> 14\u001b[0;31m                 \u001b[0mcalc_place\u001b[0m\u001b[0;34m(\u001b[0m\u001b[0mtid\u001b[0m\u001b[0;34m,\u001b[0m \u001b[0mfinishing\u001b[0m\u001b[0;34m,\u001b[0m \u001b[0mnew_rd\u001b[0m\u001b[0;34m,\u001b[0m \u001b[0mnow_played\u001b[0m\u001b[0;34m,\u001b[0m \u001b[0mnew_pts\u001b[0m\u001b[0;34m,\u001b[0m \u001b[0mnew_pos\u001b[0m\u001b[0;34m,\u001b[0m \u001b[0mcons_games\u001b[0m\u001b[0;34m,\u001b[0m \u001b[0mcons_vecs\u001b[0m\u001b[0;34m,\u001b[0m \u001b[0mmax_rd\u001b[0m\u001b[0;34m)\u001b[0m\u001b[0;34m\u001b[0m\u001b[0m\n\u001b[0m\u001b[1;32m     15\u001b[0m         \u001b[0;32mreturn\u001b[0m\u001b[0;34m\u001b[0m\u001b[0m\n\u001b[1;32m     16\u001b[0m     \u001b[0;32melse\u001b[0m\u001b[0;34m:\u001b[0m\u001b[0;34m\u001b[0m\u001b[0m\n",
      "\u001b[0;32m<ipython-input-85-02248789f2c2>\u001b[0m in \u001b[0;36mcalc_place\u001b[0;34m(tid, finishing, curr_rd, curr_played, curr_pts, curr_pos, games, game_vecs, max_rd)\u001b[0m\n\u001b[1;32m     51\u001b[0m             \u001b[0mnew_pts\u001b[0m \u001b[0;34m=\u001b[0m \u001b[0mcurr_pts\u001b[0m \u001b[0;34m+\u001b[0m \u001b[0mtid_gv\u001b[0m\u001b[0;34m[\u001b[0m\u001b[0;36m0\u001b[0m\u001b[0;34m]\u001b[0m\u001b[0;34m\u001b[0m\u001b[0m\n\u001b[1;32m     52\u001b[0m             \u001b[0mg2consid\u001b[0m\u001b[0;34m,\u001b[0m \u001b[0mgv2consid\u001b[0m \u001b[0;34m=\u001b[0m \u001b[0mposs_games\u001b[0m\u001b[0;34m(\u001b[0m\u001b[0mtid\u001b[0m\u001b[0;34m,\u001b[0m \u001b[0mcurr_rd\u001b[0m\u001b[0;34m,\u001b[0m \u001b[0mcons_games\u001b[0m\u001b[0;34m,\u001b[0m \u001b[0mcons_vecs\u001b[0m\u001b[0;34m,\u001b[0m \u001b[0mpot_played\u001b[0m\u001b[0;34m,\u001b[0m \u001b[0mnew_pts\u001b[0m\u001b[0;34m,\u001b[0m \u001b[0mmax_rd\u001b[0m\u001b[0;34m)\u001b[0m\u001b[0;34m\u001b[0m\u001b[0m\n\u001b[0;32m---> 53\u001b[0;31m             \u001b[0mrun_sims\u001b[0m\u001b[0;34m(\u001b[0m\u001b[0mtid\u001b[0m\u001b[0;34m,\u001b[0m \u001b[0mfinishing\u001b[0m\u001b[0;34m,\u001b[0m \u001b[0mcurr_rd\u001b[0m\u001b[0;34m,\u001b[0m \u001b[0mnew_pts\u001b[0m\u001b[0;34m,\u001b[0m \u001b[0mcurr_pos\u001b[0m\u001b[0;34m,\u001b[0m \u001b[0mg2consid\u001b[0m\u001b[0;34m,\u001b[0m \u001b[0mgv2consid\u001b[0m\u001b[0;34m,\u001b[0m \u001b[0mscen_per_outcome\u001b[0m\u001b[0;34m,\u001b[0m \u001b[0mmax_rd\u001b[0m\u001b[0;34m)\u001b[0m\u001b[0;34m\u001b[0m\u001b[0m\n\u001b[0m\u001b[1;32m     54\u001b[0m \u001b[0;34m\u001b[0m\u001b[0m\n\u001b[1;32m     55\u001b[0m             \u001b[0;31m# consider tie\u001b[0m\u001b[0;34m\u001b[0m\u001b[0;34m\u001b[0m\u001b[0m\n",
      "\u001b[0;32m<ipython-input-85-02248789f2c2>\u001b[0m in \u001b[0;36mrun_sims\u001b[0;34m(tid, finishing, curr_rd, curr_pts, curr_pos, cons_games, cons_vecs, scen_per_outcome, max_rd)\u001b[0m\n\u001b[1;32m     12\u001b[0m                 \u001b[0mfinishing\u001b[0m\u001b[0;34m[\u001b[0m\u001b[0mnew_pos\u001b[0m\u001b[0;34m]\u001b[0m \u001b[0;34m+=\u001b[0m \u001b[0mscen_per_res\u001b[0m\u001b[0;34m\u001b[0m\u001b[0m\n\u001b[1;32m     13\u001b[0m             \u001b[0;32melse\u001b[0m\u001b[0;34m:\u001b[0m\u001b[0;34m\u001b[0m\u001b[0m\n\u001b[0;32m---> 14\u001b[0;31m                 \u001b[0mcalc_place\u001b[0m\u001b[0;34m(\u001b[0m\u001b[0mtid\u001b[0m\u001b[0;34m,\u001b[0m \u001b[0mfinishing\u001b[0m\u001b[0;34m,\u001b[0m \u001b[0mnew_rd\u001b[0m\u001b[0;34m,\u001b[0m \u001b[0mnow_played\u001b[0m\u001b[0;34m,\u001b[0m \u001b[0mnew_pts\u001b[0m\u001b[0;34m,\u001b[0m \u001b[0mnew_pos\u001b[0m\u001b[0;34m,\u001b[0m \u001b[0mcons_games\u001b[0m\u001b[0;34m,\u001b[0m \u001b[0mcons_vecs\u001b[0m\u001b[0;34m,\u001b[0m \u001b[0mmax_rd\u001b[0m\u001b[0;34m)\u001b[0m\u001b[0;34m\u001b[0m\u001b[0m\n\u001b[0m\u001b[1;32m     15\u001b[0m         \u001b[0;32mreturn\u001b[0m\u001b[0;34m\u001b[0m\u001b[0m\n\u001b[1;32m     16\u001b[0m     \u001b[0;32melse\u001b[0m\u001b[0;34m:\u001b[0m\u001b[0;34m\u001b[0m\u001b[0m\n",
      "\u001b[0;32m<ipython-input-85-02248789f2c2>\u001b[0m in \u001b[0;36mcalc_place\u001b[0;34m(tid, finishing, curr_rd, curr_played, curr_pts, curr_pos, games, game_vecs, max_rd)\u001b[0m\n\u001b[1;32m     56\u001b[0m             \u001b[0mnew_pts\u001b[0m \u001b[0;34m=\u001b[0m \u001b[0mcurr_pts\u001b[0m \u001b[0;34m+\u001b[0m \u001b[0mtid_gv\u001b[0m\u001b[0;34m[\u001b[0m\u001b[0;36m1\u001b[0m\u001b[0;34m]\u001b[0m\u001b[0;34m\u001b[0m\u001b[0m\n\u001b[1;32m     57\u001b[0m             \u001b[0mg2consid\u001b[0m\u001b[0;34m,\u001b[0m \u001b[0mgv2consid\u001b[0m  \u001b[0;34m=\u001b[0m \u001b[0mposs_games\u001b[0m\u001b[0;34m(\u001b[0m\u001b[0mtid\u001b[0m\u001b[0;34m,\u001b[0m \u001b[0mcurr_rd\u001b[0m\u001b[0;34m,\u001b[0m \u001b[0mcons_games\u001b[0m\u001b[0;34m,\u001b[0m \u001b[0mcons_vecs\u001b[0m\u001b[0;34m,\u001b[0m \u001b[0mpot_played\u001b[0m\u001b[0;34m,\u001b[0m \u001b[0mnew_pts\u001b[0m\u001b[0;34m,\u001b[0m \u001b[0mmax_rd\u001b[0m\u001b[0;34m)\u001b[0m\u001b[0;34m\u001b[0m\u001b[0m\n\u001b[0;32m---> 58\u001b[0;31m             \u001b[0mrun_sims\u001b[0m\u001b[0;34m(\u001b[0m\u001b[0mtid\u001b[0m\u001b[0;34m,\u001b[0m \u001b[0mfinishing\u001b[0m\u001b[0;34m,\u001b[0m \u001b[0mcurr_rd\u001b[0m\u001b[0;34m,\u001b[0m \u001b[0mnew_pts\u001b[0m\u001b[0;34m,\u001b[0m \u001b[0mcurr_pos\u001b[0m\u001b[0;34m,\u001b[0m \u001b[0mg2consid\u001b[0m\u001b[0;34m,\u001b[0m \u001b[0mgv2consid\u001b[0m\u001b[0;34m,\u001b[0m \u001b[0mscen_per_outcome\u001b[0m\u001b[0;34m,\u001b[0m \u001b[0mmax_rd\u001b[0m\u001b[0;34m)\u001b[0m\u001b[0;34m\u001b[0m\u001b[0m\n\u001b[0m\u001b[1;32m     59\u001b[0m \u001b[0;34m\u001b[0m\u001b[0m\n\u001b[1;32m     60\u001b[0m             \u001b[0;31m# consider loss\u001b[0m\u001b[0;34m\u001b[0m\u001b[0;34m\u001b[0m\u001b[0m\n",
      "\u001b[0;32m<ipython-input-85-02248789f2c2>\u001b[0m in \u001b[0;36mrun_sims\u001b[0;34m(tid, finishing, curr_rd, curr_pts, curr_pos, cons_games, cons_vecs, scen_per_outcome, max_rd)\u001b[0m\n\u001b[1;32m      7\u001b[0m         \u001b[0mnow_played\u001b[0m \u001b[0;34m=\u001b[0m \u001b[0mcurr_rd\u001b[0m\u001b[0;34m*\u001b[0m\u001b[0mnp\u001b[0m\u001b[0;34m.\u001b[0m\u001b[0mones\u001b[0m\u001b[0;34m(\u001b[0m\u001b[0;36m20\u001b[0m\u001b[0;34m)\u001b[0m\u001b[0;34m\u001b[0m\u001b[0m\n\u001b[1;32m      8\u001b[0m         \u001b[0;32mfor\u001b[0m \u001b[0mscenario\u001b[0m \u001b[0;32min\u001b[0m \u001b[0mproduct\u001b[0m\u001b[0;34m(\u001b[0m\u001b[0;34m*\u001b[0m\u001b[0mgvecs_this_rd\u001b[0m\u001b[0;34m)\u001b[0m\u001b[0;34m:\u001b[0m\u001b[0;34m\u001b[0m\u001b[0m\n\u001b[0;32m----> 9\u001b[0;31m             \u001b[0mnew_pts\u001b[0m \u001b[0;34m=\u001b[0m \u001b[0mcurr_pts\u001b[0m \u001b[0;34m+\u001b[0m \u001b[0mnp\u001b[0m\u001b[0;34m.\u001b[0m\u001b[0msum\u001b[0m\u001b[0;34m(\u001b[0m\u001b[0mscenario\u001b[0m\u001b[0;34m,\u001b[0m \u001b[0maxis\u001b[0m\u001b[0;34m=\u001b[0m\u001b[0;36m0\u001b[0m\u001b[0;34m)\u001b[0m\u001b[0;34m\u001b[0m\u001b[0m\n\u001b[0m\u001b[1;32m     10\u001b[0m             \u001b[0mnew_pos\u001b[0m \u001b[0;34m=\u001b[0m \u001b[0mnp\u001b[0m\u001b[0;34m.\u001b[0m\u001b[0msum\u001b[0m\u001b[0;34m(\u001b[0m\u001b[0mnew_pts\u001b[0m \u001b[0;34m>\u001b[0m \u001b[0mnew_pts\u001b[0m\u001b[0;34m[\u001b[0m\u001b[0mtid\u001b[0m\u001b[0;34m]\u001b[0m\u001b[0;34m)\u001b[0m\u001b[0;34m\u001b[0m\u001b[0m\n\u001b[1;32m     11\u001b[0m             \u001b[0;32mif\u001b[0m \u001b[0mnew_rd\u001b[0m \u001b[0;34m>\u001b[0m \u001b[0mmax_rd\u001b[0m\u001b[0;34m:\u001b[0m\u001b[0;34m\u001b[0m\u001b[0m\n",
      "\u001b[0;32m<__array_function__ internals>\u001b[0m in \u001b[0;36msum\u001b[0;34m(*args, **kwargs)\u001b[0m\n",
      "\u001b[0;32m~/anaconda3/lib/python3.6/site-packages/numpy/core/fromnumeric.py\u001b[0m in \u001b[0;36msum\u001b[0;34m(a, axis, dtype, out, keepdims, initial, where)\u001b[0m\n\u001b[1;32m   2180\u001b[0m \u001b[0;34m\u001b[0m\u001b[0m\n\u001b[1;32m   2181\u001b[0m     return _wrapreduction(a, np.add, 'sum', axis, dtype, out, keepdims=keepdims,\n\u001b[0;32m-> 2182\u001b[0;31m                           initial=initial, where=where)\n\u001b[0m\u001b[1;32m   2183\u001b[0m \u001b[0;34m\u001b[0m\u001b[0m\n\u001b[1;32m   2184\u001b[0m \u001b[0;34m\u001b[0m\u001b[0m\n",
      "\u001b[0;32m~/anaconda3/lib/python3.6/site-packages/numpy/core/fromnumeric.py\u001b[0m in \u001b[0;36m_wrapreduction\u001b[0;34m(obj, ufunc, method, axis, dtype, out, **kwargs)\u001b[0m\n\u001b[1;32m     88\u001b[0m                 \u001b[0;32mreturn\u001b[0m \u001b[0mreduction\u001b[0m\u001b[0;34m(\u001b[0m\u001b[0maxis\u001b[0m\u001b[0;34m=\u001b[0m\u001b[0maxis\u001b[0m\u001b[0;34m,\u001b[0m \u001b[0mout\u001b[0m\u001b[0;34m=\u001b[0m\u001b[0mout\u001b[0m\u001b[0;34m,\u001b[0m \u001b[0;34m**\u001b[0m\u001b[0mpasskwargs\u001b[0m\u001b[0;34m)\u001b[0m\u001b[0;34m\u001b[0m\u001b[0m\n\u001b[1;32m     89\u001b[0m \u001b[0;34m\u001b[0m\u001b[0m\n\u001b[0;32m---> 90\u001b[0;31m     \u001b[0;32mreturn\u001b[0m \u001b[0mufunc\u001b[0m\u001b[0;34m.\u001b[0m\u001b[0mreduce\u001b[0m\u001b[0;34m(\u001b[0m\u001b[0mobj\u001b[0m\u001b[0;34m,\u001b[0m \u001b[0maxis\u001b[0m\u001b[0;34m,\u001b[0m \u001b[0mdtype\u001b[0m\u001b[0;34m,\u001b[0m \u001b[0mout\u001b[0m\u001b[0;34m,\u001b[0m \u001b[0;34m**\u001b[0m\u001b[0mpasskwargs\u001b[0m\u001b[0;34m)\u001b[0m\u001b[0;34m\u001b[0m\u001b[0m\n\u001b[0m\u001b[1;32m     91\u001b[0m \u001b[0;34m\u001b[0m\u001b[0m\n\u001b[1;32m     92\u001b[0m \u001b[0;34m\u001b[0m\u001b[0m\n",
      "\u001b[0;31mKeyboardInterrupt\u001b[0m: "
     ]
    }
   ],
   "source": [
    "rs = {35: [('watford', 'newcastle'), ('norwich', 'west ham'), ('liverpool', 'burnley'), ('sheffield', 'chelsea'), ('brighton', 'man city'),\n",
    "       ('wolves', 'everton'), ('aston villa', 'crystal palace'), ('tottenham', 'arsenal'), ('bournemouth', 'leicester'),\n",
    "       ('man united', 'southampton')],\n",
    "       36: [('chelsea', 'norwich'),\n",
    "       ('newcastle', 'tottenham'), ('burnley', 'wolves'), ('man city', 'bournemouth'), ('arsenal', 'liverpool'),\n",
    "       ('everton', 'aston villa'), ('leicester', 'sheffield'), ('southampton', 'brighton'), ('crystal palace', 'man united'),\n",
    "       ('west ham', 'watford')], \n",
    "       37: [('norwich', 'burnley'), ('bournemouth', 'southampton'), ('tottenham', 'leicester'),\n",
    "       ('sheffield', 'everton'), ('brighton', 'newcastle'), ('wolves', 'crystal palace'),\n",
    "       ('watford', 'man city'), ('aston villa', 'arsenal'), \n",
    "       ('man united', 'west ham'), ('liverpool', 'chelsea')]}\n",
    "rvs = game_vectors(rs)\n",
    "rids = game_ids(rs)\n",
    "\n",
    "finishing = np.zeros(20)\n",
    "tid = name2id['everton']\n",
    "max_rd = 37\n",
    "curr_rd = games_played[tid]+1\n",
    "pos = positions[tid]\n",
    "calc_place(tid, finishing, curr_rd, games_played, points, pos, rids, rvs, max_rd=max_rd)\n",
    "\n",
    "plt.bar(positions, finishing / np.sum(finishing))\n",
    "plt.xticks(positions);\n",
    "plt.ylim([0,1.01])\n",
    "plt.title('%s finishing after week %d' % (id2name[tid], max_rd))"
   ]
  },
  {
   "cell_type": "code",
   "execution_count": 56,
   "metadata": {
    "scrolled": true
   },
   "outputs": [
    {
     "data": {
      "text/plain": [
       "Text(0.5,1,'arsenal finishing after week 37')"
      ]
     },
     "execution_count": 56,
     "metadata": {},
     "output_type": "execute_result"
    },
    {
     "data": {
      "image/png": "[encoded data removed]",
      "text/plain": [
       "<matplotlib.figure.Figure at 0x121204828>"
      ]
     },
     "metadata": {},
     "output_type": "display_data"
    }
   ],
   "source": [
    "rs = {35: [('watford', 'newcastle'), ('norwich', 'west ham'), ('liverpool', 'burnley'), ('sheffield', 'chelsea'), ('brighton', 'man city'),\n",
    "       ('wolves', 'everton'), ('aston villa', 'crystal palace'), ('tottenham', 'arsenal'), ('bournemouth', 'leicester'),\n",
    "       ('man united', 'southampton')],\n",
    "       36: [('chelsea', 'norwich'),\n",
    "       ('newcastle', 'tottenham'), ('burnley', 'wolves'), ('man city', 'bournemouth'), ('arsenal', 'liverpool'),\n",
    "       ('everton', 'aston villa'), ('leicester', 'sheffield'), ('southampton', 'brighton'), ('crystal palace', 'man united'),\n",
    "       ('west ham', 'watford')], \n",
    "       37: [('norwich', 'burnley'), ('bournemouth', 'southampton'), ('tottenham', 'leicester'),\n",
    "       ('sheffield', 'everton'), ('brighton', 'newcastle'), ('wolves', 'crystal palace'),\n",
    "       ('watford', 'man city'), ('aston villa', 'arsenal'), \n",
    "       ('man united', 'west ham'), ('liverpool', 'chelsea')]}\n",
    "rvs = game_vectors(rs)\n",
    "\n",
    "finishing = np.zeros(20)\n",
    "tid = name2id['arsenal']\n",
    "max_rd = 37\n",
    "curr_rd = games_played[tid] + 1\n",
    "calc_place(tid, finishing, curr_rd, games_played, points, positions, rs, rvs, max_rd=max_rd)\n",
    "\n",
    "plt.bar(positions, finishing / np.sum(finishing))\n",
    "plt.xticks(positions);\n",
    "plt.ylim([0,1.01])\n",
    "plt.title('%s finishing after week %d' % (id2name[tid], max_rd))"
   ]
  },
  {
   "cell_type": "code",
   "execution_count": 52,
   "metadata": {},
   "outputs": [
    {
     "name": "stdout",
     "output_type": "stream",
     "text": [
      "Done with liverpool\n",
      "Done with man city\n",
      "Done with chelsea\n",
      "Done with leicester\n",
      "Done with man united\n",
      "Done with wolves\n",
      "Done with sheffield\n",
      "Done with arsenal\n",
      "Done with tottenham\n",
      "Done with burnley\n",
      "Done with everton\n",
      "Done with southampton\n",
      "Done with newcastle\n",
      "Done with crystal palace\n",
      "Done with brighton\n",
      "Done with west ham\n",
      "Done with watford\n",
      "Done with aston villa\n",
      "Done with bournemouth\n",
      "Done with norwich\n"
     ]
    }
   ],
   "source": [
    "rs = {35: [('watford', 'newcastle'), ('norwich', 'west ham'), ('liverpool', 'burnley'), ('sheffield', 'chelsea'), ('brighton', 'man city'),\n",
    "       ('wolves', 'everton'), ('aston villa', 'crystal palace'), ('tottenham', 'arsenal'), ('bournemouth', 'leicester'),\n",
    "       ('man united', 'southampton')],\n",
    "       36: [('chelsea', 'norwich'),\n",
    "       ('newcastle', 'tottenham'), ('burnley', 'wolves'), ('man city', 'bournemouth'), ('arsenal', 'liverpool'),\n",
    "       ('everton', 'aston villa'), ('leicester', 'sheffield'), ('southampton', 'brighton'), ('crystal palace', 'man united'),\n",
    "       ('west ham', 'watford')]}\n",
    "\n",
    "rvs = game_vectors(rs)\n",
    "\n",
    "max_rd = 36\n",
    "F = np.zeros((20,20))\n",
    "for i, team in enumerate(teams):\n",
    "    finishing = np.zeros(20)\n",
    "    tid = name2id[team]\n",
    "    curr_rd = games_played[tid]+1\n",
    "    calc_place(tid, finishing, curr_rd, games_played, points, positions, rs, rvs, max_rd=max_rd)\n",
    "    F[i,:] = finishing\n",
    "    print('Done with', team)"
   ]
  },
  {
   "cell_type": "code",
   "execution_count": 53,
   "metadata": {},
   "outputs": [
    {
     "data": {
      "text/plain": [
       "<matplotlib.image.AxesImage at 0x12238f080>"
      ]
     },
     "execution_count": 53,
     "metadata": {},
     "output_type": "execute_result"
    },
    {
     "data": {
      "image/png": "[encoded data removed]",
      "text/plain": [
       "<matplotlib.figure.Figure at 0x12182b550>"
      ]
     },
     "metadata": {},
     "output_type": "display_data"
    }
   ],
   "source": [
    "row_sums = F.sum(axis=1)\n",
    "Fnorm = F / row_sums[:, np.newaxis]\n",
    "\n",
    "plt.figure(figsize=(8,8))\n",
    "plt.imshow(Fnorm)"
   ]
  },
  {
   "cell_type": "code",
   "execution_count": 54,
   "metadata": {},
   "outputs": [
    {
     "data": {
      "image/png": "[encoded data removed]",
      "text/plain": [
       "<matplotlib.figure.Figure at 0x121194eb8>"
      ]
     },
     "metadata": {},
     "output_type": "display_data"
    }
   ],
   "source": [
    "plt.figure(figsize=(18,15))\n",
    "for i in range(20):\n",
    "    plt.subplot(4,5,i+1)\n",
    "    plt.bar(positions, Fnorm[i,:])\n",
    "    plt.xticks(positions[::2]);\n",
    "    plt.ylim([0,1.01])\n",
    "    plt.title('%s' % id2name[i])"
   ]
  },
  {
   "cell_type": "code",
   "execution_count": 26,
   "metadata": {
    "scrolled": false
   },
   "outputs": [
    {
     "name": "stdout",
     "output_type": "stream",
     "text": [
      "Done with liverpool\n",
      "Done with man city\n",
      "Done with chelsea\n",
      "Done with leicester\n",
      "Done with man united\n",
      "Done with wolves\n",
      "Done with sheffield\n",
      "Done with tottenham\n",
      "Done with arsenal\n",
      "Done with burnley\n",
      "Done with everton\n",
      "Done with southampton\n",
      "Done with newcastle\n",
      "Done with crystal palace\n",
      "Done with brighton\n",
      "Done with west ham\n",
      "Done with watford\n",
      "Done with bournemouth\n",
      "Done with aston villa\n",
      "Done with norwich\n",
      "5536.801113128662\n"
     ]
    }
   ],
   "source": [
    "start = time.time()\n",
    "max_rd = 38\n",
    "F2 = np.zeros((20,20))\n",
    "rvecs = game_vectors(r2p)\n",
    "r2pids = game_ids(r2p)\n",
    "for tid in range(20):\n",
    "    finishing = np.zeros(20)\n",
    "    curr_rd = games_played[tid]+1\n",
    "    pos = positions[tid]\n",
    "    calc_place(tid, finishing, curr_rd, games_played, points, pos, r2pids, rvecs, max_rd=max_rd)\n",
    "    F2[tid,:] = finishing\n",
    "    print('Done with', id2name[tid])\n",
    "\n",
    "end = time.time()\n",
    "print(end - start)"
   ]
  },
  {
   "cell_type": "code",
   "execution_count": 75,
   "metadata": {},
   "outputs": [
    {
     "data": {
      "text/plain": [
       "Text(0.5,1,'chelsea finishing after week 38')"
      ]
     },
     "execution_count": 75,
     "metadata": {},
     "output_type": "execute_result"
    },
    {
     "data": {
      "image/png": "[encoded data removed]",
      "text/plain": [
       "<matplotlib.figure.Figure at 0x12121e710>"
      ]
     },
     "metadata": {},
     "output_type": "display_data"
    }
   ],
   "source": [
    "plt.bar(positions, finishing / np.sum(finishing))\n",
    "plt.xticks(positions);\n",
    "plt.ylim([0,1.01])\n",
    "plt.title('%s finishing after week %d' % (id2name[2], max_rd))"
   ]
  },
  {
   "cell_type": "code",
   "execution_count": 27,
   "metadata": {},
   "outputs": [
    {
     "data": {
      "text/plain": [
       "<matplotlib.image.AxesImage at 0x11ab47208>"
      ]
     },
     "execution_count": 27,
     "metadata": {},
     "output_type": "execute_result"
    },
    {
     "data": {
      "image/png": "[encoded data removed]",
      "text/plain": [
       "<matplotlib.figure.Figure at 0x11ad334e0>"
      ]
     },
     "metadata": {},
     "output_type": "display_data"
    }
   ],
   "source": [
    "row_sums = F2.sum(axis=1)\n",
    "Fnorm = F2 / row_sums[:, np.newaxis]\n",
    "\n",
    "plt.figure(figsize=(8,8))\n",
    "plt.imshow(Fnorm)"
   ]
  },
  {
   "cell_type": "code",
   "execution_count": 28,
   "metadata": {},
   "outputs": [
    {
     "data": {
      "image/png": "[encoded data removed]",
      "text/plain": [
       "<matplotlib.figure.Figure at 0x11aca7588>"
      ]
     },
     "metadata": {},
     "output_type": "display_data"
    }
   ],
   "source": [
    "plt.figure(figsize=(18,15))\n",
    "for i in range(20):\n",
    "    plt.subplot(4,5,i+1)\n",
    "    plt.bar(positions, Fnorm[i,:])\n",
    "    plt.xticks(positions[::2]);\n",
    "    plt.ylim([0,1.01])\n",
    "    plt.title('%s' % id2name[i])"
   ]
  },
  {
   "cell_type": "code",
   "execution_count": 23,
   "metadata": {},
   "outputs": [],
   "source": [
    "finishing = np.zeros(20)\n",
    "tid = name2id['chelsea']\n",
    "max_rd = 38\n",
    "curr_rd = games_played[tid] + 1\n",
    "calc_place(tid, finishing, curr_rd, games_played, points, positions, r2pids, rvecs, max_rd=max_rd)"
   ]
  },
  {
   "cell_type": "code",
   "execution_count": 24,
   "metadata": {},
   "outputs": [
    {
     "data": {
      "text/plain": [
       "array([    0.,     0., 49550., 97684., 62993., 25789.,  4923.,   160.,\n",
       "           0.,     0.,     0.,     0.,     0.,     0.,     0.,     0.,\n",
       "           0.,     0.,     0.,     0.])"
      ]
     },
     "execution_count": 24,
     "metadata": {},
     "output_type": "execute_result"
    }
   ],
   "source": [
    "finishing"
   ]
  },
  {
   "cell_type": "code",
   "execution_count": null,
   "metadata": {},
   "outputs": [],
   "source": []
  },
  {
   "cell_type": "code",
   "execution_count": null,
   "metadata": {},
   "outputs": [],
   "source": []
  },
  {
   "cell_type": "code",
   "execution_count": 240,
   "metadata": {},
   "outputs": [],
   "source": [
    "def calc_points(curr_pts, finish, gamez):\n",
    "    tid1 = name2id[gamez[0][0]]\n",
    "    tid2 = name2id[gamez[0][1]]\n",
    "    win_pts = np.copy(curr_pts)\n",
    "    win_pts[tid1] += 3\n",
    "    \n",
    "    tie_pts = np.copy(curr_pts)\n",
    "    tie_pts[tid1] += 1\n",
    "    tie_pts[tid2] += 1\n",
    "    \n",
    "    lose_pts = np.copy(curr_pts)\n",
    "    lose_pts[tid2] += 3\n",
    "    if len(gamez) > 1:\n",
    "        calc_points(win_pts, finish, gamez[1:])\n",
    "        calc_points(tie_pts, finish, gamez[1:])\n",
    "        calc_points(lose_pts, finish, gamez[1:])\n",
    "    else:\n",
    "        win_pos = np.argsort(-win_pts)\n",
    "        tie_pos = np.argsort(-tie_pts)\n",
    "        lose_pos = np.argsort(-lose_pts)\n",
    "        for i in range(20):\n",
    "            finish[i, win_pos[i]] += 1\n",
    "            finish[i, tie_pos[i]] += 1\n",
    "            finish[i, lose_pos[i]] += 1\n",
    "                    \n",
    "        return\n",
    "    \n",
    "def calc(points, finish, games):\n",
    "    wdl = [0,1,2]\n",
    "    tmp = np.zeros(20)\n",
    "    ct = 0\n",
    "    for scenario in product(wdl, repeat=len(games)):\n",
    "        ct += 1\n",
    "        tmp *= 0\n",
    "        for i, res in enumerate(scenario):\n",
    "            tid1 = name2id[games[i][0]]\n",
    "            tid2 = name2id[games[i][1]]\n",
    "            if res == 0:\n",
    "                tmp[tid1] += 3\n",
    "            elif res == 1:\n",
    "                tmp[tid1] += 1\n",
    "                tmp[tid2] += 1\n",
    "            else:\n",
    "                tmp[tid2] += 3\n",
    "        \n",
    "        posis = ss.rankdata(-(points+tmp))-1\n",
    "        for i in range(20):\n",
    "            finish[i, int(posis[i])] += 1\n",
    "\n",
    "    return finish\n",
    "\n",
    "def calc_team(tid, points, all_games, max_games):\n",
    "    wdl = [0, 1, 2]\n",
    "    finish = np.zeros(20)\n",
    "    tmp = np.zeros(20)\n",
    "#     t_games = games_that_matter(tid, all_games, max_games=max_games)\n",
    "    t_games = all_games\n",
    "    for scenario in product(wdl, repeat=len(t_games)):\n",
    "        tmp *= 0\n",
    "        for i, res in enumerate(scenario):\n",
    "            tid1 = name2id[t_games[i][0]]\n",
    "            tid2 = name2id[t_games[i][1]]\n",
    "            if res == 0:\n",
    "                tmp[tid1] += 3\n",
    "            elif res == 1:\n",
    "                tmp[tid1] += 1\n",
    "                tmp[tid2] += 1\n",
    "            else:\n",
    "                tmp[tid2] += 3\n",
    "        new_pts = points + tmp\n",
    "        new_pos = np.sum(new_pts > new_pts[tid])\n",
    "        finish[new_pos] += 1\n",
    "    \n",
    "    return finish"
   ]
  }
 ],
 "metadata": {
  "kernelspec": {
   "display_name": "Python 3",
   "language": "python",
   "name": "python3"
  },
  "language_info": {
   "codemirror_mode": {
    "name": "ipython",
    "version": 3
   },
   "file_extension": ".py",
   "mimetype": "text/x-python",
   "name": "python",
   "nbconvert_exporter": "python",
   "pygments_lexer": "ipython3",
   "version": "3.6.6"
  }
 },
 "nbformat": 4,
 "nbformat_minor": 2
}
